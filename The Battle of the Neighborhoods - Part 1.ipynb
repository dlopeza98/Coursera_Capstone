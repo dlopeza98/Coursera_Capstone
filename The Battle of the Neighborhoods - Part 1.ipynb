{
    "cells": [
        {
            "metadata": {
                "collapsed": true
            },
            "cell_type": "markdown",
            "source": "# The Battle of the Neighborhoods -  Week 4 by David Alejandro L\u00f3pez Atehort\u00faa"
        },
        {
            "metadata": {},
            "cell_type": "markdown",
            "source": "  ## Part 1."
        },
        {
            "metadata": {},
            "cell_type": "markdown",
            "source": "### Introduction "
        },
        {
            "metadata": {},
            "cell_type": "markdown",
            "source": "New York City is one of the most multicultural cities in the world and the most populus cities in the United States. For this reason, it provides various business opportunities because there you will find all kinds of consumers. It has attracted many different players into the market.\n\nThis also means that the market is highly competitive. As it is highly developed city so cost of doing business is also one of the highest. Thus, any new business venture or expansion needs to be analyzed carefully. The insights derived from analysis will give good understanding of the business environment which help in strategically targeting the market. This will help in reduction of risk. And the Return on Investment will be reasonable.\n\nThe City of New York is famous for its excellent cuisine. It's food culture includes an array of international cuisines influenced by the city's immigrant history. Here are some examples\n\n1. Central and Eastern European immigrants, especially Jewish immigrants - bagels, cheesecake, hot dogs, knishes, and delicatessens\n2. Italian immigrants - New York-style pizza and Italian cuisine\n3. Jewish immigrants and Irish immigrants - pastrami and corned beef\n4. Chinese and other Asian restaurants, sandwich joints, diners, and coffeehouses are ubiquitous throughout the city\n5. mobile food vendors - Some 4,000 licensed by the city\n6. Middle Eastern foods such as falafel and kebabs examples of modern New York street food\n7. It is famous for not just Pizzerias, Cafes but also for fine dining Michelin starred restaurants.The city is home to \"nearly one thousand of the finest and most diverse cuisine restaurants in the world\", according to Michelin."
        },
        {
            "metadata": {},
            "cell_type": "markdown",
            "source": "### Business Problem"
        },
        {
            "metadata": {},
            "cell_type": "markdown",
            "source": "The multinational restaurant chain FOOD ABC is interested in opening a new headquarters in New York City. Therefore, it is necessary to strategically plan the most viable place to open the new restaurant, given the high competition in this market.\n\nFor this, a team of data scientists is hired to recommend the best location for the new restaurant, based on the lack of similar restaurants in the location and the existence of close suppliers of ingredients.\n"
        },
        {
            "metadata": {},
            "cell_type": "markdown",
            "source": "### Target Audience of the study"
        },
        {
            "metadata": {},
            "cell_type": "markdown",
            "source": "This would interest anyone who wants to start a new restaurant in New York City."
        },
        {
            "metadata": {},
            "cell_type": "markdown",
            "source": "## Part 2."
        },
        {
            "metadata": {},
            "cell_type": "markdown",
            "source": "Data of **New York City**"
        },
        {
            "metadata": {},
            "cell_type": "markdown",
            "source": "#### Data set 1:"
        },
        {
            "metadata": {},
            "cell_type": "markdown",
            "source": "The Neighborhood has a total of 5 boroughs and 306 neighborhoods. In order to segment the neighborhoods and explore them, we will essentially need a dataset that contains the 5 boroughs and the neighborhoods that exist in each borough as well as the the latitude and longitude coordinates of each neighborhood.\n\nThis dataset exists for free on the web. Link to the dataset is : https://geo.nyu.edu/catalog/nyu_2451_34572"
        },
        {
            "metadata": {},
            "cell_type": "markdown",
            "source": "#### Data set 2:"
        },
        {
            "metadata": {},
            "cell_type": "markdown",
            "source": "Second data which will be used is the DOHMH Farmers Markets and Food Boxes dataset. In this we will be using the data of Farmers Markets.\n\nhttps://data.cityofnewyork.us/dataset/DOHMH-Farmers-Markets-and-Food-Boxes/8vwk-6iz2\n\nWebsite-https://www.grownyc.org/greenmarketco/foodbox\nGrowNYC's Fresh Food Box Program is a food access initiative that enables under-served communities to purchase fresh, healthy, and primarily regionally grown produce well below traditional retail prices.\n\nA farmers' market is often defined as a public site used by two or more local or regional producers for the direct sale of farm products to consumers. In addition to fresh fruits and vegetables, markets may sell dairy products, fish, meat, baked goods, and other minimally processed foods."
        },
        {
            "metadata": {},
            "cell_type": "markdown",
            "source": "#### Data set 3:"
        },
        {
            "metadata": {},
            "cell_type": "markdown",
            "source": "For the below analysis we will get data from wikipedia as given below :\n\n1. New York Population\n2. New York City Demographics\n3. Cuisine of New York city\n\nhttps://en.wikipedia.org/wiki/New_York_City \n\nhttps://en.wikipedia.org/wiki/Economy_of_New_York_City \n\nhttps://en.wikipedia.org/wiki/Portal:New_York_City \n\nhttps://en.wikipedia.org/wiki/Cuisine_of_New_York_City \n\nhttps://en.wikipedia.org/wiki/List_of_Michelin_starred_restaurants_in_New_York_City "
        },
        {
            "metadata": {},
            "cell_type": "code",
            "source": "",
            "execution_count": null,
            "outputs": []
        }
    ],
    "metadata": {
        "kernelspec": {
            "name": "python3",
            "display_name": "Python 3.7",
            "language": "python"
        },
        "language_info": {
            "name": "python",
            "version": "3.7.9",
            "mimetype": "text/x-python",
            "codemirror_mode": {
                "name": "ipython",
                "version": 3
            },
            "pygments_lexer": "ipython3",
            "nbconvert_exporter": "python",
            "file_extension": ".py"
        }
    },
    "nbformat": 4,
    "nbformat_minor": 1
}